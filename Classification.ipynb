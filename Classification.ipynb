{
 "cells": [
  {
   "cell_type": "code",
   "execution_count": null,
   "metadata": {},
   "outputs": [],
   "source": [
    "import pandas as pd\n",
    "import numpy as np\n",
    "from sklearn.preprocessing import OrdinalEncoder, LabelEncoder\n",
    "from sklearn.preprocessing import MinMaxScaler\n",
    "from imblearn.over_sampling import SMOTE, BorderlineSMOTE, ADASYN\n",
    "from sklearn.model_selection import train_test_split\n",
    "from sklearn.tree import DecisionTreeClassifier\n",
    "import matplotlib.pyplot as plt\n",
    "import seaborn as sns\n",
    "from sklearn.metrics import accuracy_score, confusion_matrix\n",
    "from sklearn.tree import export_graphviz\n",
    "from sklearn.externals.six import StringIO  \n",
    "import pydotplus\n",
    "from sklearn.metrics import classification_report\n",
    "from google.colab import files\n",
    "app_df = pd.read_csv('application_record.csv')\n",
    "cr_df = pd.read_csv('credit_record.csv')\n",
    "app_df.head()\n",
    "cr_df.shape\n",
    "cr_df['MONTHS_BALANCE'].value_counts()\n",
    "cr_df = cr_df.sort_values(['ID','MONTHS_BALANCE'], ascending=False)\n",
    "cr_df = cr_df.groupby('ID').agg(max).reset_index()\n",
    "cr_df['STATUS'].value_counts()\n",
    "cr_df['STATUS'].replace({'C': 0, 'X' : 0}, inplace=True)\n",
    "cr_df['STATUS'] = cr_df['STATUS'].astype('int')\n",
    "cr_df['STATUS'] = cr_df['STATUS'].apply(lambda x:1 if x > 0 else 0)\n",
    "cr_df['STATUS'].value_counts()\n",
    "df = app_df.join(cr_df.set_index('ID'), on='ID', how='inner')\n",
    "df.info()\n",
    "df.isnull().sum()\n",
    "df['STATUS'].value_counts()\n",
    "binary_features = ['CODE_GENDER','FLAG_OWN_CAR','FLAG_OWN_REALTY','FLAG_WORK_PHONE','FLAG_EMAIL']\n",
    "continous_features = ['CNT_CHILDREN','AMT_INCOME_TOTAL','DAYS_BIRTH','DAYS_EMPLOYED','CNT_FAM_MEMBERS']\n",
    "cat_features = ['NAME_INCOME_TYPE','NAME_EDUCATION_TYPE','NAME_FAMILY_STATUS','NAME_HOUSING_TYPE']\n",
    "df.drop(['MONTHS_BALANCE','OCCUPATION_TYPE','FLAG_MOBIL'], axis=1, inplace=True)\n",
    "df['NAME_INCOME_TYPE'].unique()\n",
    "encoder2 = LabelEncoder()\n",
    "\n",
    "# No specific order for other Categorical Variables\n",
    "cat_features = ['NAME_EDUCATION_TYPE','NAME_FAMILY_STATUS','NAME_HOUSING_TYPE']\n",
    "for i in cat_features:\n",
    "  df[i] = encoder2.fit_transform(df[i].values.reshape(-1, 1))\n",
    "\n",
    "#Getting dummies using Pandas\n",
    "df = pd.get_dummies(df, columns=binary_features, drop_first=True)\n",
    "\n",
    "# Plotting different Variables\n",
    "fig, ax= plt.subplots(nrows= 2, ncols = 3, figsize= (14,6))\n",
    "\n",
    "sns.scatterplot(x='ID', y='CNT_CHILDREN', data=df, ax=ax[0][0], color= 'orange')\n",
    "sns.scatterplot(x='ID', y='AMT_INCOME_TOTAL', data=df, ax=ax[0][1], color='orange')\n",
    "sns.scatterplot(x='ID', y='DAYS_BIRTH', data=df, ax=ax[0][2])\n",
    "sns.scatterplot(x='ID', y='DAYS_EMPLOYED', data=df, ax=ax[1][0])\n",
    "sns.scatterplot(x='ID', y='CNT_FAM_MEMBERS', data=df, ax=ax[1][1], color= 'orange')\n",
    "\n",
    "q_hi = df['AMT_INCOME_TOTAL'].quantile(0.75)\n",
    "q_low = df['AMT_INCOME_TOTAL'].quantile(0.25)\n",
    "IQR = q_hi - q_low\n",
    "lower_range = q_low - (1.5 * IQR)\n",
    "upper_range = q_hi + (1.5 * IQR)\n",
    "df= df[(df['AMT_INCOME_TOTAL']>lower_range) & (df['AMT_INCOME_TOTAL']<upper_range)]\n",
    "df= df[(df['CNT_CHILDREN'] < 8)]\n",
    "df= df[(df['CNT_FAM_MEMBERS'] < 8)]\n",
    "\n",
    "\n",
    "# Plotting post removal of outliers\n",
    "fig, ax= plt.subplots(nrows= 2, ncols = 3, figsize= (14,6))\n",
    "\n",
    "sns.scatterplot(x='ID', y='CNT_CHILDREN', data=df, ax=ax[0][0], color= 'orange')\n",
    "sns.scatterplot(x='ID', y='AMT_INCOME_TOTAL', data=df, ax=ax[0][1], color='orange')\n",
    "sns.scatterplot(x='ID', y='DAYS_BIRTH', data=df, ax=ax[0][2])\n",
    "sns.scatterplot(x='ID', y='DAYS_EMPLOYED', data=df, ax=ax[1][0])\n",
    "sns.scatterplot(x='ID', y='CNT_FAM_MEMBERS', data=df, ax=ax[1][1], color= 'orange')\n"
   ]
  },
  {
   "cell_type": "markdown",
   "metadata": {},
   "source": [
    "Train Test Split:\n",
    "\n",
    "1. Seperating Target Variable from the dataset\n",
    "2. Creating Train Test Split\n",
    "3. Transforming the data\n",
    "4. Using SMOTE to counter imbalance in the data\n",
    "\n"
   ]
  },
  {
   "cell_type": "code",
   "execution_count": null,
   "metadata": {},
   "outputs": [],
   "source": [
    "new_cols = [col for col in df.columns if col != 'STATUS'] + ['STATUS']\n",
    "df = df[new_cols]\n",
    "\n",
    "\n",
    "X = df.iloc[:,1:-1]\n",
    "y = df.iloc[:,-1]\n",
    "\n",
    "X_train, X_test, y_train, y_test = train_test_split(X, y, test_size = 0.2)\n",
    "mms = MinMaxScaler()\n",
    "X_scaled = pd.DataFrame(mms.fit_transform(X_train), columns=X_train.columns)\n",
    "\n",
    "sm = SMOTE(random_state = 42)\n",
    "X_train_res, y_train_res = sm.fit_sample(X_scaled, y_train)"
   ]
  },
  {
   "cell_type": "code",
   "execution_count": null,
   "metadata": {},
   "outputs": [],
   "source": [
    "y_train.value_counts()\n",
    "unique, counts = np.unique(y_train_res, return_counts=True)\n",
    "print (np.asarray((unique, counts)).T)"
   ]
  },
  {
   "cell_type": "markdown",
   "metadata": {},
   "source": [
    "Defining the DecisionTreeClassifier Model"
   ]
  },
  {
   "cell_type": "code",
   "execution_count": null,
   "metadata": {},
   "outputs": [],
   "source": [
    "classifier = DecisionTreeClassifier()\n",
    "model = classifier.fit(X_train_res, y_train_res)\n",
    "X_test_scaled = mms.transform(X_test)\n",
    "prediction = model.predict(X_test_scaled)\n",
    "print('Accuracy Score is {:.5}'.format(accuracy_score(y_test, prediction)))\n",
    "print(pd.DataFrame(confusion_matrix(y_test,prediction)))\n",
    "print(classification_report(y_test, prediction))"
   ]
  },
  {
   "cell_type": "markdown",
   "metadata": {},
   "source": [
    "Feature Importance"
   ]
  },
  {
   "cell_type": "code",
   "execution_count": null,
   "metadata": {},
   "outputs": [],
   "source": [
    "feats = {} # a dict to hold feature_name: feature_importance\n",
    "for feature, importance in zip(X_train.columns, model.feature_importances_):\n",
    "    feats[feature] = importance #add the name/value pair \n",
    "\n",
    "importances = pd.DataFrame.from_dict(feats, orient='index').rename(columns={0: 'Gini-importance'})\n",
    "importances.sort_values(by='Gini-importance').plot(kind='bar', rot=90)\n",
    "model.feature_importances_\n",
    "importances = model.feature_importances_\n",
    "indices = np.argsort(importances)"
   ]
  },
  {
   "cell_type": "markdown",
   "metadata": {},
   "source": [
    "Download Decision Tree Image"
   ]
  },
  {
   "cell_type": "code",
   "execution_count": null,
   "metadata": {},
   "outputs": [],
   "source": [
    "dot_data = StringIO()\n",
    "export_graphviz(model, out_file=dot_data,  \n",
    "                filled=True, rounded=True,\n",
    "                special_characters=True,feature_names = X.columns,class_names=['0','1'])\n",
    "graph = pydotplus.graph_from_dot_data(dot_data.getvalue()) \n",
    "graph = pydotplus.graph_from_dot_data(dot_data.getvalue())  \n",
    "graph.write_png('Decision_Tree.png')\n",
    "files.download('Decision_Tree.png')"
   ]
  }
 ],
 "metadata": {
  "language_info": {
   "name": "python"
  },
  "orig_nbformat": 4
 },
 "nbformat": 4,
 "nbformat_minor": 2
}
